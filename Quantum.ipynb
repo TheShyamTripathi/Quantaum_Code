{
 "cells": [
  {
   "cell_type": "markdown",
   "metadata": {},
   "source": [
    "## Quantum Gates with Matrices and Qiskit Code"
   ]
  },
  {
   "cell_type": "markdown",
   "metadata": {},
   "source": [
    "### X Gate (NOT Gate)\n",
    "\n",
    "Flipks |0> to |1> and Vice versa.\n",
    "\n",
    "Matrix: \n",
    "[[0,1],[1,0]]"
   ]
  },
  {
   "cell_type": "code",
   "execution_count": 1,
   "metadata": {},
   "outputs": [
    {
     "name": "stdout",
     "output_type": "stream",
     "text": [
      "[[0 1]\n",
      " [1 0]]\n"
     ]
    },
    {
     "data": {
      "text/html": [
       "<pre style=\"word-wrap: normal;white-space: pre;background: #fff0;line-height: 1.1;font-family: &quot;Courier New&quot;,Courier,monospace\">   ┌───┐\n",
       "q: ┤ X ├\n",
       "   └───┘</pre>"
      ],
      "text/plain": [
       "   ┌───┐\n",
       "q: ┤ X ├\n",
       "   └───┘"
      ]
     },
     "execution_count": 1,
     "metadata": {},
     "output_type": "execute_result"
    }
   ],
   "source": [
    "from qiskit import QuantumCircuit\n",
    "import numpy as np \n",
    "qc = QuantumCircuit(1)\n",
    "qc.x(0)\n",
    "print(np.array([[0,1],[1,0]]))\n",
    "qc.draw()"
   ]
  },
  {
   "cell_type": "code",
   "execution_count": 10,
   "metadata": {},
   "outputs": [
    {
     "name": "stdout",
     "output_type": "stream",
     "text": [
      "[[0 1]\n",
      " [1 0]]\n"
     ]
    },
    {
     "data": {
      "text/html": [
       "<pre style=\"word-wrap: normal;white-space: pre;background: #fff0;line-height: 1.1;font-family: &quot;Courier New&quot;,Courier,monospace\">          \n",
       "q_0: ─────\n",
       "     ┌───┐\n",
       "q_1: ┤ X ├\n",
       "     └───┘</pre>"
      ],
      "text/plain": [
       "          \n",
       "q_0: ─────\n",
       "     ┌───┐\n",
       "q_1: ┤ X ├\n",
       "     └───┘"
      ]
     },
     "execution_count": 10,
     "metadata": {},
     "output_type": "execute_result"
    }
   ],
   "source": [
    "from qiskit import QuantumCircuit\n",
    "from qiskit_aer import Aer \n",
    "import numpy as np \n",
    "qc = QuantumCircuit(2) # Create a quantum circuit with 2 qubits\n",
    "qc.x(1) # Apply X gate to the second qubit\n",
    "print(np.array([[0,1],[1,0]]))\n",
    "qc.draw()"
   ]
  },
  {
   "cell_type": "markdown",
   "metadata": {},
   "source": [
    "### Y Gate\n",
    "Bit and Phase flip:\n",
    "Matrix:\n",
    "\n",
    "[[0,-1j],[1j,0]]"
   ]
  },
  {
   "cell_type": "code",
   "execution_count": 8,
   "metadata": {},
   "outputs": [
    {
     "name": "stdout",
     "output_type": "stream",
     "text": [
      "[[ 0.+0.j -0.-1.j]\n",
      " [ 0.+1.j  0.+0.j]]\n"
     ]
    }
   ],
   "source": [
    "qc = QuantumCircuit(1) # Create a quantum circuit with 1 qubit\n",
    "qc.y(0) # Apply Y gate to the first qubit\n",
    "print(np.array([[0,-1j],[1j,0]]))"
   ]
  },
  {
   "cell_type": "code",
   "execution_count": 11,
   "metadata": {},
   "outputs": [
    {
     "data": {
      "text/html": [
       "<pre style=\"word-wrap: normal;white-space: pre;background: #fff0;line-height: 1.1;font-family: &quot;Courier New&quot;,Courier,monospace\">          \n",
       "q_0: ─────\n",
       "     ┌───┐\n",
       "q_1: ┤ X ├\n",
       "     └───┘</pre>"
      ],
      "text/plain": [
       "          \n",
       "q_0: ─────\n",
       "     ┌───┐\n",
       "q_1: ┤ X ├\n",
       "     └───┘"
      ]
     },
     "execution_count": 11,
     "metadata": {},
     "output_type": "execute_result"
    }
   ],
   "source": [
    "qc.draw()"
   ]
  },
  {
   "cell_type": "code",
   "execution_count": null,
   "metadata": {},
   "outputs": [
    {
     "name": "stdout",
     "output_type": "stream",
     "text": [
      "[[0 1]\n",
      " [1 0]]\n",
      "{'1': 1024}\n"
     ]
    },
    {
     "data": {
      "image/png": "[encoded data removed]",
      "text/plain": [
       "<Figure size 640x480 with 1 Axes>"
      ]
     },
     "execution_count": 30,
     "metadata": {},
     "output_type": "execute_result"
    }
   ],
   "source": [
    "from qiskit import QuantumCircuit\n",
    "from qiskit_aer import Aer \n",
    "import numpy as np \n",
    "\n",
    "backend = Aer.get_backend(\"qasm_simulator\") # Get the QASM simulator backend \n",
    "shots = 1024 # Set the number of shots for the simulation \n",
    "qc = QuantumCircuit(1) # Create a quantum circuit with 2 qubits\n",
    "qc.x(0) # Apply X gate to the second qubit\n",
    "print(np.array([[0,1],[1,0]]))\n",
    "\n",
    "qc.measure_all() # Measure all qubits in the circuit\n",
    "# qc.measure(q[0], q[1]) # Measure the first and second qubits\n",
    "job = backend.run(qc, shots=shots) # Run the circuit on the backend with the specified number of shots\n",
    "job_result = job.result() # Get the result of the job\n",
    "\n",
    "print(job_result.get_counts()) # Print the counts of the measurement results\n",
    "\n",
    "\n",
    "# Draw Probability Distribution chart\n",
    "import matplotlib.pyplot as plt\n",
    "from qiskit.visualization import plot_histogram\n",
    "counts = job_result.get_counts() # Get the counts of the measurement results\n",
    "plot_histogram(counts) # Plot the histogram of the counts\n"
   ]
  },
  {
   "cell_type": "code",
   "execution_count": 27,
   "metadata": {},
   "outputs": [
    {
     "data": {
      "text/html": [
       "<pre style=\"word-wrap: normal;white-space: pre;background: #fff0;line-height: 1.1;font-family: &quot;Courier New&quot;,Courier,monospace\">        ┌───┐ ░ ┌─┐\n",
       "     q: ┤ X ├─░─┤M├\n",
       "        └───┘ ░ └╥┘\n",
       "meas: 1/═════════╩═\n",
       "                 0 </pre>"
      ],
      "text/plain": [
       "        ┌───┐ ░ ┌─┐\n",
       "     q: ┤ X ├─░─┤M├\n",
       "        └───┘ ░ └╥┘\n",
       "meas: 1/═════════╩═\n",
       "                 0 "
      ]
     },
     "execution_count": 27,
     "metadata": {},
     "output_type": "execute_result"
    }
   ],
   "source": [
    "qc.draw()"
   ]
  },
  {
   "cell_type": "code",
   "execution_count": 38,
   "metadata": {},
   "outputs": [
    {
     "data": {
      "image/png": "[encoded data removed]",
      "text/plain": [
       "<Figure size 640x480 with 1 Axes>"
      ]
     },
     "metadata": {},
     "output_type": "display_data"
    }
   ],
   "source": [
    "from qiskit import QuantumCircuit\n",
    "from qiskit_aer import Aer\n",
    "import numpy as np\n",
    "import matplotlib.pyplot as plt\n",
    "\n",
    "# Get the QASM simulator backend\n",
    "backend = Aer.get_backend(\"qasm_simulator\")\n",
    "\n",
    "# Number of shots\n",
    "shots = 1024\n",
    "\n",
    "# Create a 1-qubit quantum circuit\n",
    "qc = QuantumCircuit(2)\n",
    "\n",
    "# Apply an X gate (NOT gate) to flip |0⟩ to |1⟩\n",
    "qc.x(0)\n",
    "\n",
    "# Measure the qubit\n",
    "qc.measure_all()\n",
    "\n",
    "# Run the circuit on the simulator\n",
    "job = backend.run(qc, shots=shots)\n",
    "job_result = job.result()\n",
    "\n",
    "# Get the counts\n",
    "counts = job_result.get_counts()\n",
    "\n",
    "# Convert counts to probabilities\n",
    "probabilities = {state: count / shots for state, count in counts.items()}\n",
    "\n",
    "# Plot the probability distribution\n",
    "plt.bar(probabilities.keys(), probabilities.values(), color='skyblue')\n",
    "plt.xlabel('Measurement Outcome')\n",
    "plt.ylabel('Probability')\n",
    "plt.title('Probability Distribution')\n",
    "plt.ylim(0, 1)\n",
    "plt.grid(axis='y', linestyle='--', alpha=0.7)\n",
    "plt.show()\n"
   ]
  },
  {
   "cell_type": "code",
   "execution_count": 39,
   "metadata": {},
   "outputs": [
    {
     "data": {
      "text/html": [
       "<pre style=\"word-wrap: normal;white-space: pre;background: #fff0;line-height: 1.1;font-family: &quot;Courier New&quot;,Courier,monospace\">        ┌───┐ ░ ┌─┐   \n",
       "   q_0: ┤ X ├─░─┤M├───\n",
       "        └───┘ ░ └╥┘┌─┐\n",
       "   q_1: ──────░──╫─┤M├\n",
       "              ░  ║ └╥┘\n",
       "meas: 2/═════════╩══╩═\n",
       "                 0  1 </pre>"
      ],
      "text/plain": [
       "        ┌───┐ ░ ┌─┐   \n",
       "   q_0: ┤ X ├─░─┤M├───\n",
       "        └───┘ ░ └╥┘┌─┐\n",
       "   q_1: ──────░──╫─┤M├\n",
       "              ░  ║ └╥┘\n",
       "meas: 2/═════════╩══╩═\n",
       "                 0  1 "
      ]
     },
     "execution_count": 39,
     "metadata": {},
     "output_type": "execute_result"
    }
   ],
   "source": [
    "qc.draw()"
   ]
  },
  {
   "cell_type": "code",
   "execution_count": null,
   "metadata": {},
   "outputs": [],
   "source": []
  }
 ],
 "metadata": {
  "kernelspec": {
   "display_name": "venv",
   "language": "python",
   "name": "python3"
  },
  "language_info": {
   "codemirror_mode": {
    "name": "ipython",
    "version": 3
   },
   "file_extension": ".py",
   "mimetype": "text/x-python",
   "name": "python",
   "nbconvert_exporter": "python",
   "pygments_lexer": "ipython3",
   "version": "3.12.3"
  }
 },
 "nbformat": 4,
 "nbformat_minor": 2
}
