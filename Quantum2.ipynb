{
 "cells": [
  {
   "cell_type": "code",
   "execution_count": 18,
   "metadata": {},
   "outputs": [],
   "source": [
    "from qiskit import QuantumCircuit\n",
    "import numpy as np\n",
    "from qiskit_aer import Aer\n",
    "from qiskit.visualization import plot_histogram\n",
    "import matplotlib.pyplot as plt\n"
   ]
  },
  {
   "cell_type": "code",
   "execution_count": 11,
   "metadata": {},
   "outputs": [
    {
     "name": "stdout",
     "output_type": "stream",
     "text": [
      "[[0 1]\n",
      " [1 0]]\n",
      "[[ 0.+0.j -0.-1.j]\n",
      " [ 0.+1.j  0.+0.j]]\n",
      "[[ 1  0]\n",
      " [ 0 -1]]\n",
      "[[ 0.70710678  0.70710678]\n",
      " [ 0.70710678 -0.70710678]]\n"
     ]
    },
    {
     "data": {
      "image/png": "[encoded data removed]",
      "text/plain": [
       "<Figure size 663.998x367.889 with 1 Axes>"
      ]
     },
     "execution_count": 11,
     "metadata": {},
     "output_type": "execute_result"
    }
   ],
   "source": [
    "qc = QuantumCircuit(3) # create a quantum circuit with 3 qubits\n",
    "# create the x gate\n",
    "qc.x(0)\n",
    "# matrix representation of the x gate\n",
    "print(np.array([[0, 1], [1, 0]]))\n",
    "\n",
    "# create the y gate\n",
    "qc.y(1)\n",
    "# matrix representation of the y gate\n",
    "print(np.array([[0, -1j], [1j, 0]]))\n",
    "\n",
    "# create the z gate\n",
    "qc.z(2)\n",
    "# matrix representation of the z gate\n",
    "print(np.array([[1, 0], [0, -1]]))\n",
    "# create the h gate\n",
    "qc.h(1)\n",
    "# matrix representation of the h gate\n",
    "print(np.array([[1, 1], [1, -1]]) / np.sqrt(2))\n",
    "# create the s  gate\n",
    "qc.s(0)\n",
    "qc.measure_all()\n",
    "qc.draw('mpl')"
   ]
  },
  {
   "cell_type": "code",
   "execution_count": null,
   "metadata": {},
   "outputs": [
    {
     "ename": "NameError",
     "evalue": "name 'shots' is not defined",
     "output_type": "error",
     "traceback": [
      "\u001b[31m---------------------------------------------------------------------------\u001b[39m",
      "\u001b[31mNameError\u001b[39m                                 Traceback (most recent call last)",
      "\u001b[36mCell\u001b[39m\u001b[36m \u001b[39m\u001b[32mIn[23]\u001b[39m\u001b[32m, line 2\u001b[39m\n\u001b[32m      1\u001b[39m \u001b[38;5;66;03m# Run the circuit on the simulator\u001b[39;00m\n\u001b[32m----> \u001b[39m\u001b[32m2\u001b[39m job = backend.run(qc, shots=\u001b[43mshots\u001b[49m)\n\u001b[32m      3\u001b[39m job_result = job.result()\n\u001b[32m      4\u001b[39m shots = \u001b[32m1024\u001b[39m  \u001b[38;5;66;03m# Number of shots for the simulation\u001b[39;00m\n",
      "\u001b[31mNameError\u001b[39m: name 'shots' is not defined"
     ]
    }
   ],
   "source": [
    "# Run the circuit on the simulator\n",
    "job = backend.run(qc, shots=shots)\n",
    "job_result = job.result()\n",
    "# Get the counts\n",
    "counts = job_result.get_counts()\n",
    "\n",
    "# Convert counts to probabilities\n",
    "probabilities = {state: count / shots for state, count in counts.items()}\n",
    "\n",
    "# Plot the probability distribution\n",
    "plt.bar(probabilities.keys(), probabilities.values(), color='skyblue')\n",
    "plt.xlabel('Measurement Outcome')\n",
    "plt.ylabel('Probability')\n",
    "plt.title('Probability Distribution')\n",
    "plt.ylim(0, 1)\n",
    "plt.grid(axis='y', linestyle='--', alpha=0.7)\n",
    "plt.show()\n",
    "\n"
   ]
  },
  {
   "cell_type": "code",
   "execution_count": null,
   "metadata": {},
   "outputs": [],
   "source": []
  }
 ],
 "metadata": {
  "kernelspec": {
   "display_name": "venv",
   "language": "python",
   "name": "python3"
  },
  "language_info": {
   "codemirror_mode": {
    "name": "ipython",
    "version": 3
   },
   "file_extension": ".py",
   "mimetype": "text/x-python",
   "name": "python",
   "nbconvert_exporter": "python",
   "pygments_lexer": "ipython3",
   "version": "3.12.3"
  }
 },
 "nbformat": 4,
 "nbformat_minor": 2
}
